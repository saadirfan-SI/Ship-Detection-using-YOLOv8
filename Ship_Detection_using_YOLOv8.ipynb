{
  "cells": [
    {
      "cell_type": "code",
      "execution_count": null,
      "metadata": {
        "colab": {
          "base_uri": "https://localhost:8080/"
        },
        "id": "onPoNgNEd6kj",
        "outputId": "b6282ef3-90cb-4f0e-e38b-ea1631a14105"
      },
      "outputs": [],
      "source": [
        "# Import the drive module from the google.colab package\n",
        "from google.colab import drive\n",
        "\n",
        "# Mount Google Drive to the Colab environment, which allows access to files stored in my Google Drive\n",
        "drive.mount('/content/drive')\n"
      ]
    },
    {
      "cell_type": "code",
      "execution_count": null,
      "metadata": {
        "_kg_hide-output": true,
        "colab": {
          "base_uri": "https://localhost:8080/"
        },
        "execution": {
          "iopub.execute_input": "2023-04-09T11:17:23.290281Z",
          "iopub.status.busy": "2023-04-09T11:17:23.289298Z",
          "iopub.status.idle": "2023-04-09T11:17:43.751769Z",
          "shell.execute_reply": "2023-04-09T11:17:43.750443Z",
          "shell.execute_reply.started": "2023-04-09T11:17:23.29024Z"
        },
        "id": "9J_sIobkdwR7",
        "outputId": "457aa632-4d0b-4e20-c2d6-600ea3ebd630",
        "trusted": true
      },
      "outputs": [],
      "source": [
        "# Use the magic command \"%pip\" to install the \"ultralytics\" package. This command installs packages directly from the Python Package Index (PyPI).\n",
        "%pip install ultralytics\n",
        "\n",
        "# Use the \"!pip\" command to install the \"ultralytics\" package. This command installs packages directly from the Python Package Index (PyPI). This is the same command as before but sometimes this command line does not work\n",
        "!pip install ultralytics\n",
        "\n",
        "# Use the \"!pip\" command to install the \"Squarify\" package, which is used for creating treemaps in Python.\n",
        "!pip install Squarify\n"
      ]
    },
    {
      "cell_type": "code",
      "execution_count": 5,
      "metadata": {
        "execution": {
          "iopub.execute_input": "2023-04-09T11:20:49.287394Z",
          "iopub.status.busy": "2023-04-09T11:20:49.286485Z",
          "iopub.status.idle": "2023-04-09T11:20:49.296571Z",
          "shell.execute_reply": "2023-04-09T11:20:49.295327Z",
          "shell.execute_reply.started": "2023-04-09T11:20:49.28735Z"
        },
        "id": "45SFExkuDsM_",
        "trusted": true
      },
      "outputs": [],
      "source": [
        "# Import the YOLO class from the ultralytics package, which provides functionality for working with YOLO object detection models.\n",
        "from ultralytics import YOLO\n",
        "\n",
        "# Import the squarify module, which is used for creating treemaps in Python.\n",
        "import squarify\n",
        "\n",
        "# Import the pyplot module from the matplotlib library, which is used for creating visualizations in Python.\n",
        "import matplotlib.pyplot as plt\n",
        "\n",
        "# Import the cv2 module, which is the OpenCV library for computer vision tasks.\n",
        "import cv2\n",
        "\n",
        "# Import the os module, which provides a portable way of using operating system-dependent functionality in Python.\n",
        "import os\n",
        "\n",
        "# Import the random module, which provides functions for generating random numbers and performing random selections.\n",
        "import random\n",
        "\n",
        "# Import the pandas library, which provides data structures and data analysis tools for Python.\n",
        "import pandas as pd\n",
        "\n",
        "# Import the image module from the matplotlib library, which is used for working with images in Python.\n",
        "import matplotlib.image as mpimg\n",
        "\n",
        "# Import the seaborn library, which is used for statistical data visualization in Python.\n",
        "import seaborn as sns\n",
        "\n",
        "# Set the seaborn plotting style to 'darkgrid' for visual consistency.\n",
        "sns.set_style('darkgrid')\n",
        "\n",
        "# Use the \"%matplotlib inline\" magic command to enable inline plotting in Jupyter notebooks, which displays plots directly within the notebook.\n",
        "%matplotlib inline\n"
      ]
    },
    {
      "cell_type": "code",
      "execution_count": null,
      "metadata": {
        "_kg_hide-input": true,
        "colab": {
          "base_uri": "https://localhost:8080/",
          "height": 1000
        },
        "execution": {
          "iopub.execute_input": "2023-04-09T11:20:49.778075Z",
          "iopub.status.busy": "2023-04-09T11:20:49.777046Z",
          "iopub.status.idle": "2023-04-09T11:20:53.643024Z",
          "shell.execute_reply": "2023-04-09T11:20:53.641482Z",
          "shell.execute_reply.started": "2023-04-09T11:20:49.778026Z"
        },
        "id": "vMeV7OjmGOWx",
        "outputId": "5510806f-5a13-416d-9bfd-8ff498e34a92",
        "trusted": true
      },
      "outputs": [],
      "source": [
        "# Define the paths to the directories containing training, testing, and validation images and labels\n",
        "train_images = \"/content/drive/MyDrive/Dissertation/Experiments/Dataset/ships-aerial-images/train/images\"\n",
        "train_labels = \"/content/drive/MyDrive/Dissertation/Experiments/Dataset/ships-aerial-images/train/labels\"\n",
        "\n",
        "test_images = \"/content/drive/MyDrive/Dissertation/Experiments/Dataset/ships-aerial-images/test/images\"\n",
        "test_labels = \"/content/drive/MyDrive/Dissertation/Experiments/Dataset/ships-aerial-images/test/labels\"\n",
        "\n",
        "val_images = \"/content/drive/MyDrive/Dissertation/Experiments/Dataset/ships-aerial-images/valid/images\"\n",
        "val_labels = \"/content/drive/MyDrive/Dissertation/Experiments/Dataset/ships-aerial-images/valid/labels\"\n",
        "\n",
        "# Get a list of all the image files in the training images directory (which is in the mounted google drive)\n",
        "image_files = os.listdir(train_images)\n",
        "\n",
        "# Choose 16 random image files from the list\n",
        "random_images = random.sample(image_files, 16)\n",
        "\n",
        "# Set up the plot with 4 rows and 4 columns, each subplot represents an image with object detections\n",
        "fig, axs = plt.subplots(4, 4, figsize=(16, 16))\n",
        "\n",
        "# Loop over the randomly selected image files\n",
        "for i, image_file in enumerate(random_images):\n",
        "    row = i // 4  # Calculate the row index for the subplot\n",
        "    col = i % 4   # Calculate the column index for the subplot\n",
        "\n",
        "    # Load the image\n",
        "    image_path = os.path.join(train_images, image_file)\n",
        "    image = cv2.imread(image_path)\n",
        "\n",
        "    # Load the labels for this image\n",
        "    label_file = os.path.splitext(image_file)[0] + \".txt\"\n",
        "    label_path = os.path.join(train_labels, label_file)\n",
        "    with open(label_path, \"r\") as f:\n",
        "        labels = f.read().strip().split(\"\\n\")\n",
        "\n",
        "    # Loop over the labels and plot the object detections on the image\n",
        "    for label in labels:\n",
        "        if len(label.split()) != 5:\n",
        "            continue\n",
        "        class_id, x_center, y_center, width, height = map(float, label.split())\n",
        "        x_min = int((x_center - width/2) * image.shape[1])\n",
        "        y_min = int((y_center - height/2) * image.shape[0])\n",
        "        x_max = int((x_center + width/2) * image.shape[1])\n",
        "        y_max = int((y_center + height/2) * image.shape[0])\n",
        "        cv2.rectangle(image, (x_min, y_min), (x_max, y_max), (0, 255, 0), 3)\n",
        "\n",
        "    # Show the image with the object detections on the corresponding subplot\n",
        "    axs[row, col].imshow(cv2.cvtColor(image, cv2.COLOR_BGR2RGB))\n",
        "    axs[row, col].axis('off')  # Hide axis\n",
        "\n",
        "# Display the plot\n",
        "plt.show()\n"
      ]
    },
    {
      "cell_type": "code",
      "execution_count": null,
      "metadata": {
        "colab": {
          "base_uri": "https://localhost:8080/"
        },
        "execution": {
          "iopub.execute_input": "2023-04-09T11:20:53.645322Z",
          "iopub.status.busy": "2023-04-09T11:20:53.645045Z",
          "iopub.status.idle": "2023-04-09T11:20:53.677694Z",
          "shell.execute_reply": "2023-04-09T11:20:53.67685Z",
          "shell.execute_reply.started": "2023-04-09T11:20:53.645296Z"
        },
        "id": "zadPmTePdwR8",
        "outputId": "47333520-c9d4-40e4-90eb-2e040e6131a1",
        "trusted": true
      },
      "outputs": [],
      "source": [
        "# Load an image using OpenCV imread() function. Provide the path to the image file as an argument.\n",
        "image = cv2.imread(\"/content/drive/MyDrive/Dissertation/Experiments/Dataset/ships-aerial-images/test/images/02e39612d_jpg.rf.cc5483bb711f080d12b644ff62cf977a.jpg\")\n",
        "\n",
        "# Get the size of the image using the shape attribute of the image array.\n",
        "# The shape attribute returns a tuple containing height, width, and number of channels (if it's a color image).\n",
        "height, width, channels = image.shape\n",
        "\n",
        "# Print the dimensions and channels of the image using formatted string.\n",
        "print(f\"The image has dimensions {width}x{height} and {channels} channels.\")\n"
      ]
    },
    {
      "cell_type": "code",
      "execution_count": null,
      "metadata": {
        "_kg_hide-output": true,
        "colab": {
          "base_uri": "https://localhost:8080/"
        },
        "execution": {
          "iopub.execute_input": "2023-04-09T11:20:53.679744Z",
          "iopub.status.busy": "2023-04-09T11:20:53.679139Z",
          "iopub.status.idle": "2023-04-09T11:47:05.702893Z",
          "shell.execute_reply": "2023-04-09T11:47:05.701661Z",
          "shell.execute_reply.started": "2023-04-09T11:20:53.679709Z"
        },
        "id": "QQorLHRn9fqR",
        "outputId": "eccbcb18-1c2d-4464-bfba-8c6cdc1b9c0f",
        "trusted": true
      },
      "outputs": [],
      "source": [
        "# Load a pre-trained YOLOv8 model named 'yolov8x.pt' using the YOLO class from the ultralytics package.\n",
        "model = YOLO('yolov8x.pt')\n",
        "\n",
        "# Train the loaded model using the train() method.\n",
        "# Provide the path to the data.yaml file which contains information about the dataset.\n",
        "# Set the number of epochs to train for to 50.\n",
        "# Set the input image size (imgsz) to the height of the previously loaded image.\n",
        "# Set the random seed (seed) for reproducibility to 42.\n",
        "# Set the batch size (batch) to 8 images per batch.\n",
        "# Set the number of workers (workers) to 4 for data loading.\n",
        "model.train(data='/content/drive/MyDrive/Dissertation/Experiments/Dataset/ships-aerial-images/data.yaml',\n",
        "            epochs=50,\n",
        "            imgsz=height,\n",
        "            seed=42,\n",
        "            batch=8,\n",
        "            workers=4)\n"
      ]
    },
    {
      "cell_type": "code",
      "execution_count": null,
      "metadata": {
        "_kg_hide-input": true,
        "colab": {
          "base_uri": "https://localhost:8080/",
          "height": 1000
        },
        "execution": {
          "iopub.execute_input": "2023-04-09T11:48:28.793317Z",
          "iopub.status.busy": "2023-04-09T11:48:28.792259Z",
          "iopub.status.idle": "2023-04-09T11:48:30.905777Z",
          "shell.execute_reply": "2023-04-09T11:48:30.904706Z",
          "shell.execute_reply.started": "2023-04-09T11:48:28.793259Z"
        },
        "id": "AgxVGspkHvYa",
        "outputId": "2a6c7293-35cc-46e6-cb0a-c51ed7d92a30",
        "trusted": true
      },
      "outputs": [],
      "source": [
        "# Enable inline plotting for matplotlib in Jupyter notebooks\n",
        "%matplotlib inline\n",
        "\n",
        "# Read the results.csv file as a pandas DataFrame\n",
        "df = pd.read_csv('/content/runs/detect/train/results.csv')\n",
        "\n",
        "# Strip leading and trailing whitespaces from column names\n",
        "df.columns = df.columns.str.strip()\n",
        "\n",
        "# Create subplots grid with 5 rows and 2 columns using seaborn\n",
        "fig, axs = plt.subplots(nrows=5, ncols=2, figsize=(15, 15))\n",
        "\n",
        "# Plot each column using seaborn's lineplot function and assign each plot to a specific subplot\n",
        "sns.lineplot(x='epoch', y='train/box_loss', data=df, ax=axs[0,0])\n",
        "sns.lineplot(x='epoch', y='train/cls_loss', data=df, ax=axs[0,1])\n",
        "sns.lineplot(x='epoch', y='train/dfl_loss', data=df, ax=axs[1,0])\n",
        "sns.lineplot(x='epoch', y='metrics/precision(B)', data=df, ax=axs[1,1])\n",
        "sns.lineplot(x='epoch', y='metrics/recall(B)', data=df, ax=axs[2,0])\n",
        "sns.lineplot(x='epoch', y='metrics/mAP50(B)', data=df, ax=axs[2,1])\n",
        "sns.lineplot(x='epoch', y='metrics/mAP50-95(B)', data=df, ax=axs[3,0])\n",
        "sns.lineplot(x='epoch', y='val/box_loss', data=df, ax=axs[3,1])\n",
        "sns.lineplot(x='epoch', y='val/cls_loss', data=df, ax=axs[4,0])\n",
        "sns.lineplot(x='epoch', y='val/dfl_loss', data=df, ax=axs[4,1])\n",
        "\n",
        "# Set titles and axis labels for each subplot\n",
        "axs[0,0].set(title='Train Box Loss')\n",
        "axs[0,1].set(title='Train Class Loss')\n",
        "axs[1,0].set(title='Train DFL Loss')\n",
        "axs[1,1].set(title='Metrics Precision (B)')\n",
        "axs[2,0].set(title='Metrics Recall (B)')\n",
        "axs[2,1].set(title='Metrics mAP50 (B)')\n",
        "axs[3,0].set(title='Metrics mAP50-95 (B)')\n",
        "axs[3,1].set(title='Validation Box Loss')\n",
        "axs[4,0].set(title='Validation Class Loss')\n",
        "axs[4,1].set(title='Validation DFL Loss')\n",
        "\n",
        "# Add suptitle for the entire figure\n",
        "plt.suptitle('Training Metrics and Loss', fontsize=24)\n",
        "\n",
        "# Adjust top margin to make space for suptitle\n",
        "plt.subplots_adjust(top=0.8)\n",
        "\n",
        "# Adjust spacing between subplots\n",
        "plt.tight_layout()\n",
        "\n",
        "# Show the plot\n",
        "plt.show()\n"
      ]
    },
    {
      "cell_type": "code",
      "execution_count": null,
      "metadata": {
        "colab": {
          "base_uri": "https://localhost:8080/"
        },
        "execution": {
          "iopub.execute_input": "2023-04-09T12:07:47.312166Z",
          "iopub.status.busy": "2023-04-09T12:07:47.31132Z",
          "iopub.status.idle": "2023-04-09T12:11:45.735123Z",
          "shell.execute_reply": "2023-04-09T12:11:45.733921Z",
          "shell.execute_reply.started": "2023-04-09T12:07:47.312122Z"
        },
        "id": "YoJqV-zfvyxn",
        "outputId": "57ade9de-6b3b-4399-dbcd-01de778dd464",
        "trusted": true
      },
      "outputs": [],
      "source": [
        "# Enable inline plotting for matplotlib in Jupyter notebooks\n",
        "%matplotlib inline\n",
        "\n",
        "# Load the best performing model from the specified google drive path\n",
        "model = YOLO('/content/runs/detect/train/weights/best.pt')\n",
        "\n",
        "# Evaluate the model on the test dataset\n",
        "# Set the confidence threshold to 0.25 and specify that evaluation should be performed on the test split\n",
        "metrics = model.val(conf=0.25, split='test')\n"
      ]
    },
    {
      "cell_type": "code",
      "execution_count": null,
      "metadata": {
        "_kg_hide-input": false,
        "colab": {
          "base_uri": "https://localhost:8080/",
          "height": 564
        },
        "execution": {
          "iopub.execute_input": "2023-04-09T12:13:17.810848Z",
          "iopub.status.busy": "2023-04-09T12:13:17.809862Z",
          "iopub.status.idle": "2023-04-09T12:13:18.050978Z",
          "shell.execute_reply": "2023-04-09T12:13:18.049953Z",
          "shell.execute_reply.started": "2023-04-09T12:13:17.810807Z"
        },
        "id": "b0h2cgjxdwR-",
        "outputId": "6386ba81-014e-4033-f12f-6cdf433f163f",
        "trusted": true
      },
      "outputs": [],
      "source": [
        "# Enable inline plotting for matplotlib in Jupyter notebooks\n",
        "%matplotlib inline\n",
        "\n",
        "# Create a barplot using seaborn's barplot function\n",
        "# x specifies the labels for the x-axis (metrics) and y specifies the values for the y-axis (mAP values)\n",
        "ax = sns.barplot(x=['mAP50-95', 'mAP50', 'mAP75'], y=[metrics.box.map, metrics.box.map50, metrics.box.map75])\n",
        "\n",
        "# Set the title and axis labels\n",
        "ax.set_title('YOLO Evaluation Metrics')\n",
        "ax.set_xlabel('Metric')\n",
        "ax.set_ylabel('Value')\n",
        "\n",
        "# Set the figure size\n",
        "fig = plt.gcf()\n",
        "fig.set_size_inches(8, 6)\n",
        "\n",
        "# Add the values on top of the bars\n",
        "for p in ax.patches:\n",
        "    ax.annotate('{:.3f}'.format(p.get_height()), (p.get_x() + p.get_width() / 2, p.get_height()), ha='center', va='bottom')\n",
        "\n",
        "# Show the plot\n",
        "plt.show()\n"
      ]
    },
    {
      "cell_type": "code",
      "execution_count": null,
      "metadata": {
        "_kg_hide-input": false,
        "colab": {
          "base_uri": "https://localhost:8080/",
          "height": 856
        },
        "execution": {
          "iopub.execute_input": "2023-04-09T12:22:46.652125Z",
          "iopub.status.busy": "2023-04-09T12:22:46.65112Z",
          "iopub.status.idle": "2023-04-09T12:22:48.493996Z",
          "shell.execute_reply": "2023-04-09T12:22:48.492894Z",
          "shell.execute_reply.started": "2023-04-09T12:22:46.652071Z"
        },
        "id": "VSa9b5RFIJ5N",
        "outputId": "1cd11939-4753-4135-ce3c-0513ec525f02",
        "trusted": true
      },
      "outputs": [],
      "source": [
        "# Enable inline plotting for matplotlib in Jupyter notebooks\n",
        "%matplotlib inline\n",
        "\n",
        "# Read the confusion matrix image file in the mounted google drive path using matplotlib's imread function\n",
        "img = mpimg.imread('/content/runs/detect/train/confusion_matrix.png')\n",
        "\n",
        "# Plot the confusion matrix image\n",
        "# Create a figure and axis object with a specified figsize\n",
        "fig, ax = plt.subplots(figsize=(15, 15))\n",
        "\n",
        "# Display the image on the axis\n",
        "ax.imshow(img)\n",
        "\n",
        "# Turn off the axis to remove axis ticks and labels\n",
        "ax.axis('off')\n",
        "\n",
        "# Show the plot\n",
        "plt.show()\n"
      ]
    },
    {
      "cell_type": "code",
      "execution_count": 13,
      "metadata": {
        "_kg_hide-input": false,
        "execution": {
          "iopub.execute_input": "2023-04-09T12:23:06.331656Z",
          "iopub.status.busy": "2023-04-09T12:23:06.330929Z",
          "iopub.status.idle": "2023-04-09T12:23:06.337499Z",
          "shell.execute_reply": "2023-04-09T12:23:06.336258Z",
          "shell.execute_reply.started": "2023-04-09T12:23:06.331616Z"
        },
        "id": "ozw58SKudwR_",
        "trusted": true
      },
      "outputs": [],
      "source": [
        "# Define a function named ship_detect that takes the path to an image as input\n",
        "def ship_detect(img_path):\n",
        "\n",
        "    # Read the image using OpenCV\n",
        "    img = cv2.imread(img_path)\n",
        "\n",
        "    # Pass the image through the detection model and get the result\n",
        "    detect_result = model(img)\n",
        "\n",
        "    # Plot the detections on the image\n",
        "    detect_img = detect_result[0].plot()\n",
        "\n",
        "    # Convert the image from BGR (OpenCV format) to RGB format (matplotlib format)\n",
        "    detect_img = cv2.cvtColor(detect_img, cv2.COLOR_BGR2RGB)\n",
        "\n",
        "    # Return the image with ship detections\n",
        "    return detect_img\n"
      ]
    },
    {
      "cell_type": "code",
      "execution_count": null,
      "metadata": {
        "_kg_hide-input": false,
        "colab": {
          "base_uri": "https://localhost:8080/",
          "height": 1000
        },
        "execution": {
          "iopub.execute_input": "2023-04-09T12:30:09.854003Z",
          "iopub.status.busy": "2023-04-09T12:30:09.852985Z",
          "iopub.status.idle": "2023-04-09T12:30:14.964816Z",
          "shell.execute_reply": "2023-04-09T12:30:14.963851Z",
          "shell.execute_reply.started": "2023-04-09T12:30:09.853948Z"
        },
        "id": "9DDNPD2LdwR_",
        "outputId": "58e0a97e-2267-43e4-95b8-c539ac6c2942",
        "trusted": true
      },
      "outputs": [],
      "source": [
        "# Import the random module\n",
        "import random\n",
        "\n",
        "# Define the directory where the custom images are stored (which is the mounted google drive, all images and data is stored in that)\n",
        "custom_image_dir = '/content/drive/MyDrive/Dissertation/Experiments/Dataset/ships-aerial-images/test/images'\n",
        "\n",
        "# Get the list of image files in the directory\n",
        "image_files = os.listdir(custom_image_dir)\n",
        "\n",
        "# Select 16 random images from the list\n",
        "selected_images = random.sample(image_files, 16)\n",
        "\n",
        "# Create a figure with subplots for each image\n",
        "fig, axes = plt.subplots(nrows=4, ncols=4, figsize=(15, 15))\n",
        "\n",
        "# Iterate over the selected images and plot each one\n",
        "for i, img_file in enumerate(selected_images):\n",
        "\n",
        "    # Compute the row and column index of the current subplot\n",
        "    row_idx = i // 4\n",
        "    col_idx = i % 4\n",
        "\n",
        "    # Load the current image and run object detection using the ship_detect function\n",
        "    img_path = os.path.join(custom_image_dir, img_file)\n",
        "    detect_img = ship_detect(img_path)\n",
        "\n",
        "    # Plot the current image on the appropriate subplot\n",
        "    axes[row_idx, col_idx].imshow(detect_img)\n",
        "    axes[row_idx, col_idx].axis('off')\n",
        "\n",
        "# Adjust the spacing between the subplots\n",
        "plt.subplots_adjust(wspace=0.05, hspace=0.05)\n"
      ]
    }
  ],
  "metadata": {
    "accelerator": "GPU",
    "colab": {
      "gpuType": "A100",
      "machine_shape": "hm",
      "provenance": []
    },
    "kernelspec": {
      "display_name": "Python 3",
      "name": "python3"
    },
    "language_info": {
      "codemirror_mode": {
        "name": "ipython",
        "version": 3
      },
      "file_extension": ".py",
      "mimetype": "text/x-python",
      "name": "python",
      "nbconvert_exporter": "python",
      "pygments_lexer": "ipython3",
      "version": "3.11.5"
    }
  },
  "nbformat": 4,
  "nbformat_minor": 0
}
